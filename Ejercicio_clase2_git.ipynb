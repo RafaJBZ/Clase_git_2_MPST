{
 "cells": [
  {
   "cell_type": "markdown",
   "metadata": {},
   "source": [
    "# Ejercicios clase 2 git\n",
    "\n",
    "Este cuaderno de python es creado con el fin de ilustrar el método de fork y pull request. "
   ]
  },
  {
   "cell_type": "markdown",
   "metadata": {},
   "source": [
    "# 1\n",
    "La sucesión de Fibonacci se define de la siguiente forma: a1=1, a2=1 y an=an-1+an-2 para n>2, es decir los dos primeros son 1 y el resto cada uno es la suma de los dos anteriores, los primeros son: 1, 1, 2, 3, 5, 8, 13, 21, ... Hacer un diagrama de flujo para calcular el Nésimo término de la sucesión.\n",
    "\n",
    "# 2 \n",
    "Elabora un programa que solicite la medida en Pies y realice la conversión a pulgadas, yardas, cm y metros. Toma en cuenta que un pie tiene 12 pulgadas y una pulgada equivale a 2.54 cm.\n",
    "\n",
    "# 3\n",
    "Escribir un programa que pregunte al usuario su nombre, edad, dirección y teléfono y lo guarde en un diccionario. Después debe mostrar por pantalla el mensaje <nombre> tiene <edad> años, vive en <dirección> y su número de teléfono es <teléfono>.\n",
    "    \n",
    "# 4\n",
    "Escribir un programa que cree un diccionario vacío y lo vaya llenado con información sobre una persona (por ejemplo nombre, edad, sexo, teléfono, correo electrónico, etc.) que se le pida al usuario. Cada vez que se añada un nuevo dato debe imprimirse el contenido del diccionario.\n",
    "    \n",
    "# 5\n",
    "Escribir una función que tenga la capacidad de convertir unidades de longitud (al menos 5 distintas unidades), de temperatura (celcius, fahrenheit, kelvin) y masa (al menos 3 distintas unidades). La función debe de recibir tres argumentos. El primero será un string especificando si se desea hacer una conversión de longitud, temperatura o masa. El segundo será otro string que especica cuál será la unidad que se desea convertir (ejemplo centigrados, kilogramos o kilómetros. Finalmente el tercer argumento será un string que especifica, cuál será la unidad de destino a la que se tiene que convertir. Se debe de implemetar la lógica adecuada para que si se está en la unidad de conversión longitud el tercer argumento esté acorde a las posibilidades de longitud y no de temperatura o masa."
   ]
  },
  {
   "cell_type": "code",
   "execution_count": 1,
   "metadata": {
    "scrolled": false
   },
   "outputs": [
    {
     "data": {
      "text/plain": [
       "['estudiante 1 ejercicio 1',\n",
       " 'estudiante 2 ejercicio 2',\n",
       " 'estudiante 3 ejercicio 3',\n",
       " 'estudiante 4 ejercicio 4',\n",
       " 'estudiante 5 ejercicio 5',\n",
       " 'estudiante 6 ejercicio 1',\n",
       " 'estudiante 7 ejercicio 2',\n",
       " 'estudiante 8 ejercicio 3',\n",
       " 'estudiante 9 ejercicio 4',\n",
       " 'estudiante 10 ejercicio 5',\n",
       " 'estudiante 11 ejercicio 1',\n",
       " 'estudiante 12 ejercicio 2',\n",
       " 'estudiante 13 ejercicio 3',\n",
       " 'estudiante 14 ejercicio 4',\n",
       " 'estudiante 15 ejercicio 5',\n",
       " 'estudiante 16 ejercicio 1',\n",
       " 'estudiante 17 ejercicio 2',\n",
       " 'estudiante 18 ejercicio 3',\n",
       " 'estudiante 19 ejercicio 4',\n",
       " 'estudiante 20 ejercicio 5',\n",
       " 'estudiante 21 ejercicio 1',\n",
       " 'estudiante 22 ejercicio 2',\n",
       " 'estudiante 23 ejercicio 3',\n",
       " 'estudiante 24 ejercicio 4',\n",
       " 'estudiante 25 ejercicio 5',\n",
       " 'estudiante 26 ejercicio 1',\n",
       " 'estudiante 27 ejercicio 2',\n",
       " 'estudiante 28 ejercicio 3',\n",
       " 'estudiante 29 ejercicio 4',\n",
       " 'estudiante 30 ejercicio 5']"
      ]
     },
     "execution_count": 1,
     "metadata": {},
     "output_type": "execute_result"
    }
   ],
   "source": [
    "# Profesor\n",
    "import numpy as np\n",
    "ejercicios = np.tile(np.arange(1,6), 6)\n",
    "estudiantes = np.arange(1, 31)\n",
    "clase = []\n",
    "\n",
    "for est, ejer in zip(estudiantes, ejercicios):\n",
    "    clase.append(f'estudiante {est} ejercicio {ejer}')\n",
    "    \n",
    "clase"
   ]
  },
  {
   "cell_type": "code",
   "execution_count": 6,
   "metadata": {},
   "outputs": [
    {
     "name": "stdout",
     "output_type": "stream",
     "text": [
      "1.0 pies equivale a 12.0 pulgadas, 0.333 yardas, 30.48 centímetros, y 0.305 metros.\n"
     ]
    }
   ],
   "source": [
    "# 1 - ejercicio 1\n",

    "# Rosaura\n",
    "import numpy as np\n",
    "\n",
    "pies = float(input(\"Ingresa una medida en pies:\"))\n",
    "pulgadas = np.round(pies * 12, 3)\n",
    "yardas = np.round(pies / 3, 3)\n",
    "cm = np.round(pies * 30.48, 3)\n",
    "metros = np.round(pies /  3.281, 3)\n",
    "\n",
    "print(f\"{pies} pies equivale a {pulgadas} pulgadas, {yardas} yardas, {cm} centímetros, y {metros} metros.\")",
    "# Nombre"
   ]
  },
  {
   "cell_type": "code",
   "execution_count": 9,
   "metadata": {},
   "outputs": [
    {
     "name": "stdout",
     "output_type": "stream",
     "text": [
      "Introduzca la medida deseada en Pies: 6116\n",
      "La equivalencia en pulgadas es: 73392,\n",
      "En yardas: 2038.6666666666667,\n",
      "En centimetros: 186415.68 \n",
      "En metros: 1864.1568\n"
     ]
    }
   ],
   "source": [
    "# 2 - ejercicio 2\n",
    "# Paulo\n",
    "\n",
    "def transformacion(valor_pies):\n",
    "    pulgadas = 12 * valor_pies\n",
    "    yardas = valor_pies / 3\n",
    "    cm = pulgadas * 2.54\n",
    "    m = cm / 100\n",
    "    return print(f\"La equivalencia en pulgadas es: {pulgadas},\\nEn yardas: {yardas},\\nEn centimetros: {cm} \\nEn metros: {m}\")\n",
    "\n",
    "val = int(input(\"Introduzca la medida deseada en Pies: \"))\n",
    "transformacion(val)"
   ]
  },
  {
   "cell_type": "code",
   "execution_count": null,
   "metadata": {},
   "outputs": [],
   "source": [
    "# 3 - ejercicio 3\n",
    "# Nombre "
   ]
  },
  {
   "cell_type": "code",
   "execution_count": null,
   "metadata": {},
   "outputs": [],
   "source": [
    "# 4 - ejercicio 4\n",
    "# Nombre"
   ]
  },
  {
   "cell_type": "code",
   "execution_count": 4,
   "metadata": {},
   "outputs": [],
   "source": [
    "# 5 - ejercicio 5\n",
    "# Nombre"
   ]
  },
  {
   "cell_type": "code",
   "execution_count": 6,
   "outputs": [
    {
     "data": {
      "text/plain": "55"
     },
     "execution_count": 6,
     "metadata": {},
     "output_type": "execute_result"
    }
   ],
   "source": [
    "# 6 - ejercicio 1\n",
    "# José Manuel Haces\n",
    "\n",
    "# Función para obtener el número en la frecuencia\n",
    "def fibonacci(n):\n",
    "    # En caso de ser uno de los primeros dígitos regresarlo igual\n",
    "    if n in [0, 1]:\n",
    "        return n\n",
    "    # Regresar el resultado de la operación\n",
    "    num_fibonacci = fibonacci(n - 1) + fibonacci(n - 2)\n",
    "    return num_fibonacci\n",
    "\n",
    "# Llmando a la función para obtener el número en la posición 10 de la secuencia\n",
    "fibonacci(10)"
   ],
   "metadata": {
    "collapsed": false
   }
  },
  {
   "cell_type": "code",
   "execution_count": null,
   "metadata": {},
   "outputs": [],
   "source": [
    "# 7 - ejercicio 2\n",
    "# Nombre"
   ]
  },
  {
   "cell_type": "code",
   "execution_count": null,
   "metadata": {},
   "outputs": [],
   "source": [
    "# 8 - ejercicio 3\n",
    "# Nombre"
   ]
  },
  {
   "cell_type": "code",
   "execution_count": 3,
   "metadata": {},
   "outputs": [
    {
     "name": "stdout",
     "output_type": "stream",
     "text": [
      "{'nombre': 'rafa'}\n",
      "{'nombre': 'rafa', 'edad': '10'}\n",
      "{'nombre': 'rafa', 'edad': '10', 'sexo': 'e'}\n"
     ]
    }
   ],
   "source": [
    "# 9 - ejercicio 4\n",
    "# RafaJBZ\n",
    "# Escribir un programa que cree un diccionario vacío y lo vaya llenado con información sobre una persona \n",
    "# (por ejemplo nombre, edad, sexo, teléfono, correo electrónico, etc.) que se le pida al usuario. \n",
    "# Cada vez que se añada un nuevo dato debe imprimirse el contenido del diccionario.\n",
    "\n",
    "dic = {}\n",
    "# Agrego nuevo nombre\n",
    "name = input('Escribe tu nombre: ')\n",
    "# Agrego nuevo nombre al diccionario\n",
    "dic['nombre'] = name\n",
    "# Imprimo\n",
    "print(dic)\n",
    "\n",
    "# Agrego nueva edad\n",
    "age = input('Escribe tu edad: ')\n",
    "# Agrego nueva edad al diccionario\n",
    "dic['edad'] = age\n",
    "# Imprimo\n",
    "print(dic)\n",
    "\n",
    "# Agrego sexo\n",
    "gender = input('Escribe tu sexo: ')\n",
    "# Agrego sexo al diccionario\n",
    "dic['sexo'] = gender\n",
    "# imprimo\n",
    "print(dic)"
   ]
  },
  {
   "cell_type": "code",
   "execution_count": null,
   "metadata": {},
   "outputs": [],
   "source": [
    "# 10 - ejercicio 5\n",
    "# Nombre"
   ]
  },
  {
   "cell_type": "code",
   "execution_count": 5,
   "metadata": {},
   "outputs": [],
   "source": [
    "# 11 - ejercicio 1\n",
    "# Nombre"
   ]
  },
  {
   "cell_type": "code",
   "execution_count": null,
   "metadata": {},
   "outputs": [],
   "source": [
    "# 12 - ejercicio 2\n",
    "# Nombre"
   ]
  },
  {
   "cell_type": "code",
   "execution_count": 6,
   "metadata": {},
   "outputs": [],
   "source": [
    "# 13 - ejercicio 3\n",
    "# Nombre"
   ]
  },
  {
   "cell_type": "code",
   "execution_count": null,
   "metadata": {},
   "outputs": [],
   "source": [
    "# 14 - ejercicio 4\n",
    "# Nombre"
   ]
  },
  {
   "cell_type": "code",
   "execution_count": null,
   "metadata": {},
   "outputs": [],
   "source": [
    "# 15 - ejercicio 5\n",
    "# Nombre "
   ]
  },
  {
   "cell_type": "code",
   "execution_count": null,
   "metadata": {},
   "outputs": [],
   "source": [
    "# 16 - ejercicio 1\n",
    "# Nombre"
   ]
  },
  {
   "cell_type": "code",
   "execution_count": null,
   "metadata": {},
   "outputs": [],
   "source": [
    "# 17 - ejercicio 2\n",
    "# Nombre"
   ]
  },
  {
   "cell_type": "code",
   "execution_count": null,
   "metadata": {},
   "outputs": [],
   "source": [
    "# 18  - ejercicio 3\n",
    "# Nombre"
   ]
  },
  {
   "cell_type": "code",
   "execution_count": null,
   "metadata": {},
   "outputs": [],
   "source": [
    "# 19 - ejercicio 4\n",
    "# Nombre"
   ]
  },
  {
   "cell_type": "code",
   "execution_count": null,
   "metadata": {},
   "outputs": [],
   "source": [
    "# 20 - ejercicio 5\n",
    "# Nombre"
   ]
  },
  {
   "cell_type": "code",
   "execution_count": 7,
   "metadata": {},
   "outputs": [],
   "source": [
    "# 21 - ejercicio 1\n",
    "# Nombre"
   ]
  },
  {
   "cell_type": "code",
   "execution_count": null,
   "metadata": {},
   "outputs": [],
   "source": [
    "# 22 - ejercicio 2\n",
    "#Nombre"
   ]
  },
  {
   "cell_type": "code",
   "execution_count": null,
   "metadata": {},
   "outputs": [],
   "source": [
    "# 23 - ejercicio 3\n",
    "# Nombre"
   ]
  },
  {
   "cell_type": "code",
   "execution_count": null,
   "metadata": {},
   "outputs": [],
   "source": [
    "# 24 - ejercicio 4\n",
    "# Nombre"
   ]
  },
  {
   "cell_type": "code",
   "execution_count": null,
   "metadata": {},
   "outputs": [],
   "source": [
    "# 25 - ejercicio 5\n",
    "# Nombre"
   ]
  },
  {
   "cell_type": "code",
   "execution_count": null,
   "metadata": {},
   "outputs": [],
   "source": [
    "# 26 - ejercicio 1\n",
    "# Nombre"
   ]
  },
  {
   "cell_type": "code",
   "execution_count": null,
   "metadata": {},
   "outputs": [],
   "source": [
    "# 27 - ejercicio 2\n",
    "# Nombre"
   ]
  },
  {
   "cell_type": "code",
   "execution_count": null,
   "metadata": {},
   "outputs": [],
   "source": [
    "# 28 - ejercicio 3\n",
    "# Nombre"
   ]
  },
  {
   "cell_type": "code",
   "execution_count": null,
   "metadata": {},
   "outputs": [],
   "source": [
    "# 29 - ejercicio 4\n",
    "# Nombre"
   ]
  },
  {
   "cell_type": "code",
   "execution_count": null,
   "metadata": {},
   "outputs": [],
   "source": [
    "# 30 - ejercicio 5\n",
    "# Nombre"
   ]
  }
 ],
 "metadata": {
  "kernelspec": {
   "display_name": "procesamiento",
   "language": "python",
   "name": "python3"
  },
  "language_info": {
   "codemirror_mode": {
    "name": "ipython",
    "version": 3
   },
   "file_extension": ".py",
   "mimetype": "text/x-python",
   "name": "python",
   "nbconvert_exporter": "python",
   "pygments_lexer": "ipython3",
   "version": "3.9.7"
  }
 },
 "nbformat": 4,
 "nbformat_minor": 4
}
